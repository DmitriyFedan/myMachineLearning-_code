{
 "cells": [
  {
   "cell_type": "code",
   "execution_count": null,
   "metadata": {},
   "outputs": [],
   "source": []
  },
  {
   "cell_type": "code",
   "execution_count": 99,
   "metadata": {},
   "outputs": [],
   "source": [
    "## ===== importing required libraries=====\n",
    "#------------------------------------------------\n",
    "## to  data  forming\n",
    "import numpy as np\n",
    "import pandas as pd \n",
    "##import random\n",
    "\n",
    "#------------------------------------------------\n",
    "## to ML \n",
    "import tensorflow as tf\n",
    "\n",
    "\n",
    "#------------------------------------------------\n",
    "## to visualization\n",
    "from matplotlib import pyplot as plt \n",
    "\n",
    "#------------------------------------------------\n",
    "## to  load test datasets\n",
    "##from yahoo_finance import Share\n",
    "##import yfinance as yf\n",
    "\n",
    "#------------------------------------------------"
   ]
  },
  {
   "cell_type": "code",
   "execution_count": 3,
   "metadata": {},
   "outputs": [],
   "source": [
    "start_data = pd.read_csv(\"DataanyvalXAUUSD_M5.csv\", sep = ';')"
   ]
  },
  {
   "cell_type": "code",
   "execution_count": 4,
   "metadata": {},
   "outputs": [
    {
     "data": {
      "text/plain": [
       "(571065, 11)"
      ]
     },
     "execution_count": 4,
     "metadata": {},
     "output_type": "execute_result"
    }
   ],
   "source": [
    "start_data.shape"
   ]
  },
  {
   "cell_type": "code",
   "execution_count": 5,
   "metadata": {},
   "outputs": [
    {
     "data": {
      "text/html": [
       "<div>\n",
       "<style scoped>\n",
       "    .dataframe tbody tr th:only-of-type {\n",
       "        vertical-align: middle;\n",
       "    }\n",
       "\n",
       "    .dataframe tbody tr th {\n",
       "        vertical-align: top;\n",
       "    }\n",
       "\n",
       "    .dataframe thead th {\n",
       "        text-align: right;\n",
       "    }\n",
       "</style>\n",
       "<table border=\"1\" class=\"dataframe\">\n",
       "  <thead>\n",
       "    <tr style=\"text-align: right;\">\n",
       "      <th></th>\n",
       "      <th>Number</th>\n",
       "      <th>DAte</th>\n",
       "      <th>MA1</th>\n",
       "      <th>Open</th>\n",
       "      <th>Low</th>\n",
       "      <th>High</th>\n",
       "      <th>Close</th>\n",
       "      <th>Value</th>\n",
       "      <th>Trendpower3</th>\n",
       "      <th>Trendpower5</th>\n",
       "      <th>Price EURUSD</th>\n",
       "    </tr>\n",
       "  </thead>\n",
       "  <tbody>\n",
       "    <tr>\n",
       "      <th>571000</th>\n",
       "      <td>571001</td>\n",
       "      <td>1616433900</td>\n",
       "      <td>1734.66</td>\n",
       "      <td>1735.10</td>\n",
       "      <td>1733.60</td>\n",
       "      <td>1735.72</td>\n",
       "      <td>1734.04</td>\n",
       "      <td>968.0</td>\n",
       "      <td>4.3</td>\n",
       "      <td>8.2</td>\n",
       "      <td>1.1926</td>\n",
       "    </tr>\n",
       "    <tr>\n",
       "      <th>571001</th>\n",
       "      <td>571002</td>\n",
       "      <td>1616434200</td>\n",
       "      <td>1735.05</td>\n",
       "      <td>1734.05</td>\n",
       "      <td>1733.55</td>\n",
       "      <td>1736.56</td>\n",
       "      <td>1736.44</td>\n",
       "      <td>1179.0</td>\n",
       "      <td>6.0</td>\n",
       "      <td>6.2</td>\n",
       "      <td>1.1931</td>\n",
       "    </tr>\n",
       "    <tr>\n",
       "      <th>571002</th>\n",
       "      <td>571003</td>\n",
       "      <td>1616434500</td>\n",
       "      <td>1736.99</td>\n",
       "      <td>1736.42</td>\n",
       "      <td>1736.30</td>\n",
       "      <td>1737.69</td>\n",
       "      <td>1737.05</td>\n",
       "      <td>903.0</td>\n",
       "      <td>6.2</td>\n",
       "      <td>4.9</td>\n",
       "      <td>1.1936</td>\n",
       "    </tr>\n",
       "    <tr>\n",
       "      <th>571003</th>\n",
       "      <td>571004</td>\n",
       "      <td>1616434800</td>\n",
       "      <td>1737.22</td>\n",
       "      <td>1737.07</td>\n",
       "      <td>1736.85</td>\n",
       "      <td>1737.60</td>\n",
       "      <td>1737.25</td>\n",
       "      <td>715.0</td>\n",
       "      <td>4.1</td>\n",
       "      <td>5.6</td>\n",
       "      <td>1.1934</td>\n",
       "    </tr>\n",
       "    <tr>\n",
       "      <th>571004</th>\n",
       "      <td>571005</td>\n",
       "      <td>1616435100</td>\n",
       "      <td>1737.68</td>\n",
       "      <td>1737.25</td>\n",
       "      <td>1736.97</td>\n",
       "      <td>1738.38</td>\n",
       "      <td>1737.84</td>\n",
       "      <td>923.0</td>\n",
       "      <td>3.1</td>\n",
       "      <td>5.4</td>\n",
       "      <td>1.1932</td>\n",
       "    </tr>\n",
       "    <tr>\n",
       "      <th>571005</th>\n",
       "      <td>571006</td>\n",
       "      <td>1616435400</td>\n",
       "      <td>1738.07</td>\n",
       "      <td>1737.84</td>\n",
       "      <td>1737.61</td>\n",
       "      <td>1738.54</td>\n",
       "      <td>1738.02</td>\n",
       "      <td>837.0</td>\n",
       "      <td>5.7</td>\n",
       "      <td>5.9</td>\n",
       "      <td>1.1933</td>\n",
       "    </tr>\n",
       "    <tr>\n",
       "      <th>571006</th>\n",
       "      <td>571007</td>\n",
       "      <td>1616435700</td>\n",
       "      <td>1737.87</td>\n",
       "      <td>1738.05</td>\n",
       "      <td>1737.48</td>\n",
       "      <td>1738.25</td>\n",
       "      <td>1738.10</td>\n",
       "      <td>930.0</td>\n",
       "      <td>10.3</td>\n",
       "      <td>8.4</td>\n",
       "      <td>1.1932</td>\n",
       "    </tr>\n",
       "    <tr>\n",
       "      <th>571007</th>\n",
       "      <td>571008</td>\n",
       "      <td>1616436000</td>\n",
       "      <td>1737.86</td>\n",
       "      <td>1738.13</td>\n",
       "      <td>1737.33</td>\n",
       "      <td>1738.39</td>\n",
       "      <td>1737.55</td>\n",
       "      <td>810.0</td>\n",
       "      <td>15.3</td>\n",
       "      <td>11.4</td>\n",
       "      <td>1.1930</td>\n",
       "    </tr>\n",
       "    <tr>\n",
       "      <th>571008</th>\n",
       "      <td>571009</td>\n",
       "      <td>1616436300</td>\n",
       "      <td>1737.88</td>\n",
       "      <td>1737.55</td>\n",
       "      <td>1737.55</td>\n",
       "      <td>1738.20</td>\n",
       "      <td>1737.87</td>\n",
       "      <td>630.0</td>\n",
       "      <td>17.6</td>\n",
       "      <td>14.8</td>\n",
       "      <td>1.1930</td>\n",
       "    </tr>\n",
       "    <tr>\n",
       "      <th>571009</th>\n",
       "      <td>571010</td>\n",
       "      <td>1616436600</td>\n",
       "      <td>1738.22</td>\n",
       "      <td>1737.85</td>\n",
       "      <td>1737.85</td>\n",
       "      <td>1738.59</td>\n",
       "      <td>1738.08</td>\n",
       "      <td>696.0</td>\n",
       "      <td>19.0</td>\n",
       "      <td>19.1</td>\n",
       "      <td>1.1932</td>\n",
       "    </tr>\n",
       "    <tr>\n",
       "      <th>571010</th>\n",
       "      <td>571011</td>\n",
       "      <td>1616436900</td>\n",
       "      <td>1738.32</td>\n",
       "      <td>1737.99</td>\n",
       "      <td>1737.60</td>\n",
       "      <td>1739.05</td>\n",
       "      <td>1738.89</td>\n",
       "      <td>669.0</td>\n",
       "      <td>22.5</td>\n",
       "      <td>22.6</td>\n",
       "      <td>1.1931</td>\n",
       "    </tr>\n",
       "    <tr>\n",
       "      <th>571011</th>\n",
       "      <td>571012</td>\n",
       "      <td>1616437200</td>\n",
       "      <td>1738.93</td>\n",
       "      <td>1738.94</td>\n",
       "      <td>1738.41</td>\n",
       "      <td>1739.45</td>\n",
       "      <td>1738.44</td>\n",
       "      <td>585.0</td>\n",
       "      <td>26.0</td>\n",
       "      <td>25.3</td>\n",
       "      <td>1.1933</td>\n",
       "    </tr>\n",
       "    <tr>\n",
       "      <th>571012</th>\n",
       "      <td>571013</td>\n",
       "      <td>1616437500</td>\n",
       "      <td>1738.93</td>\n",
       "      <td>1738.37</td>\n",
       "      <td>1738.16</td>\n",
       "      <td>1739.70</td>\n",
       "      <td>1739.19</td>\n",
       "      <td>632.0</td>\n",
       "      <td>23.7</td>\n",
       "      <td>24.7</td>\n",
       "      <td>1.1933</td>\n",
       "    </tr>\n",
       "    <tr>\n",
       "      <th>571013</th>\n",
       "      <td>571014</td>\n",
       "      <td>1616437800</td>\n",
       "      <td>1739.06</td>\n",
       "      <td>1739.15</td>\n",
       "      <td>1738.57</td>\n",
       "      <td>1739.55</td>\n",
       "      <td>1739.32</td>\n",
       "      <td>697.0</td>\n",
       "      <td>19.1</td>\n",
       "      <td>23.6</td>\n",
       "      <td>1.1934</td>\n",
       "    </tr>\n",
       "    <tr>\n",
       "      <th>571014</th>\n",
       "      <td>571015</td>\n",
       "      <td>1616438100</td>\n",
       "      <td>1738.99</td>\n",
       "      <td>1739.30</td>\n",
       "      <td>1738.64</td>\n",
       "      <td>1739.34</td>\n",
       "      <td>1738.69</td>\n",
       "      <td>561.0</td>\n",
       "      <td>12.7</td>\n",
       "      <td>21.0</td>\n",
       "      <td>1.1934</td>\n",
       "    </tr>\n",
       "    <tr>\n",
       "      <th>571015</th>\n",
       "      <td>571016</td>\n",
       "      <td>1616438400</td>\n",
       "      <td>1738.85</td>\n",
       "      <td>1738.73</td>\n",
       "      <td>1738.26</td>\n",
       "      <td>1739.44</td>\n",
       "      <td>1739.00</td>\n",
       "      <td>702.0</td>\n",
       "      <td>9.8</td>\n",
       "      <td>16.2</td>\n",
       "      <td>1.1934</td>\n",
       "    </tr>\n",
       "    <tr>\n",
       "      <th>571016</th>\n",
       "      <td>571017</td>\n",
       "      <td>1616438700</td>\n",
       "      <td>1738.70</td>\n",
       "      <td>1739.03</td>\n",
       "      <td>1738.32</td>\n",
       "      <td>1739.08</td>\n",
       "      <td>1738.43</td>\n",
       "      <td>623.0</td>\n",
       "      <td>7.3</td>\n",
       "      <td>11.2</td>\n",
       "      <td>1.1936</td>\n",
       "    </tr>\n",
       "    <tr>\n",
       "      <th>571017</th>\n",
       "      <td>571018</td>\n",
       "      <td>1616439000</td>\n",
       "      <td>1738.61</td>\n",
       "      <td>1738.56</td>\n",
       "      <td>1738.16</td>\n",
       "      <td>1739.05</td>\n",
       "      <td>1739.05</td>\n",
       "      <td>523.0</td>\n",
       "      <td>5.9</td>\n",
       "      <td>9.2</td>\n",
       "      <td>1.1936</td>\n",
       "    </tr>\n",
       "    <tr>\n",
       "      <th>571018</th>\n",
       "      <td>571019</td>\n",
       "      <td>1616439300</td>\n",
       "      <td>1739.59</td>\n",
       "      <td>1739.11</td>\n",
       "      <td>1738.87</td>\n",
       "      <td>1740.31</td>\n",
       "      <td>1740.23</td>\n",
       "      <td>769.0</td>\n",
       "      <td>8.2</td>\n",
       "      <td>9.0</td>\n",
       "      <td>1.1937</td>\n",
       "    </tr>\n",
       "    <tr>\n",
       "      <th>571019</th>\n",
       "      <td>571020</td>\n",
       "      <td>1616439600</td>\n",
       "      <td>1739.95</td>\n",
       "      <td>1740.19</td>\n",
       "      <td>1739.44</td>\n",
       "      <td>1740.47</td>\n",
       "      <td>1739.44</td>\n",
       "      <td>670.0</td>\n",
       "      <td>10.5</td>\n",
       "      <td>9.7</td>\n",
       "      <td>1.1937</td>\n",
       "    </tr>\n",
       "    <tr>\n",
       "      <th>571020</th>\n",
       "      <td>571021</td>\n",
       "      <td>1616439900</td>\n",
       "      <td>1739.33</td>\n",
       "      <td>1739.43</td>\n",
       "      <td>1738.96</td>\n",
       "      <td>1739.69</td>\n",
       "      <td>1739.26</td>\n",
       "      <td>640.0</td>\n",
       "      <td>11.1</td>\n",
       "      <td>10.0</td>\n",
       "      <td>1.1936</td>\n",
       "    </tr>\n",
       "    <tr>\n",
       "      <th>571021</th>\n",
       "      <td>571022</td>\n",
       "      <td>1616440200</td>\n",
       "      <td>1739.08</td>\n",
       "      <td>1739.28</td>\n",
       "      <td>1738.71</td>\n",
       "      <td>1739.45</td>\n",
       "      <td>1738.96</td>\n",
       "      <td>512.0</td>\n",
       "      <td>7.2</td>\n",
       "      <td>8.9</td>\n",
       "      <td>1.1936</td>\n",
       "    </tr>\n",
       "    <tr>\n",
       "      <th>571022</th>\n",
       "      <td>571023</td>\n",
       "      <td>1616440500</td>\n",
       "      <td>1739.28</td>\n",
       "      <td>1739.00</td>\n",
       "      <td>1738.93</td>\n",
       "      <td>1739.63</td>\n",
       "      <td>1739.48</td>\n",
       "      <td>475.0</td>\n",
       "      <td>3.7</td>\n",
       "      <td>8.2</td>\n",
       "      <td>1.1940</td>\n",
       "    </tr>\n",
       "    <tr>\n",
       "      <th>571023</th>\n",
       "      <td>571024</td>\n",
       "      <td>1616440800</td>\n",
       "      <td>1739.34</td>\n",
       "      <td>1739.48</td>\n",
       "      <td>1739.06</td>\n",
       "      <td>1739.61</td>\n",
       "      <td>1739.31</td>\n",
       "      <td>524.0</td>\n",
       "      <td>1.9</td>\n",
       "      <td>5.9</td>\n",
       "      <td>1.1942</td>\n",
       "    </tr>\n",
       "    <tr>\n",
       "      <th>571024</th>\n",
       "      <td>571025</td>\n",
       "      <td>1616441100</td>\n",
       "      <td>1739.11</td>\n",
       "      <td>1739.27</td>\n",
       "      <td>1738.67</td>\n",
       "      <td>1739.54</td>\n",
       "      <td>1738.70</td>\n",
       "      <td>651.0</td>\n",
       "      <td>1.9</td>\n",
       "      <td>3.2</td>\n",
       "      <td>1.1942</td>\n",
       "    </tr>\n",
       "    <tr>\n",
       "      <th>571025</th>\n",
       "      <td>571026</td>\n",
       "      <td>1616441400</td>\n",
       "      <td>1738.45</td>\n",
       "      <td>1738.68</td>\n",
       "      <td>1737.90</td>\n",
       "      <td>1738.99</td>\n",
       "      <td>1738.81</td>\n",
       "      <td>529.0</td>\n",
       "      <td>2.0</td>\n",
       "      <td>2.2</td>\n",
       "      <td>1.1942</td>\n",
       "    </tr>\n",
       "    <tr>\n",
       "      <th>571026</th>\n",
       "      <td>571027</td>\n",
       "      <td>1616441700</td>\n",
       "      <td>1738.90</td>\n",
       "      <td>1738.81</td>\n",
       "      <td>1738.65</td>\n",
       "      <td>1739.15</td>\n",
       "      <td>1738.78</td>\n",
       "      <td>503.0</td>\n",
       "      <td>1.8</td>\n",
       "      <td>2.2</td>\n",
       "      <td>1.1944</td>\n",
       "    </tr>\n",
       "    <tr>\n",
       "      <th>571027</th>\n",
       "      <td>571028</td>\n",
       "      <td>1616442000</td>\n",
       "      <td>1739.09</td>\n",
       "      <td>1738.82</td>\n",
       "      <td>1738.68</td>\n",
       "      <td>1739.49</td>\n",
       "      <td>1739.46</td>\n",
       "      <td>461.0</td>\n",
       "      <td>2.7</td>\n",
       "      <td>2.5</td>\n",
       "      <td>1.1943</td>\n",
       "    </tr>\n",
       "    <tr>\n",
       "      <th>571028</th>\n",
       "      <td>571029</td>\n",
       "      <td>1616442300</td>\n",
       "      <td>1739.72</td>\n",
       "      <td>1739.36</td>\n",
       "      <td>1739.36</td>\n",
       "      <td>1740.09</td>\n",
       "      <td>1739.56</td>\n",
       "      <td>565.0</td>\n",
       "      <td>2.0</td>\n",
       "      <td>2.2</td>\n",
       "      <td>1.1945</td>\n",
       "    </tr>\n",
       "    <tr>\n",
       "      <th>571029</th>\n",
       "      <td>571030</td>\n",
       "      <td>1616442600</td>\n",
       "      <td>1740.05</td>\n",
       "      <td>1739.56</td>\n",
       "      <td>1739.48</td>\n",
       "      <td>1740.61</td>\n",
       "      <td>1740.47</td>\n",
       "      <td>448.0</td>\n",
       "      <td>1.8</td>\n",
       "      <td>2.2</td>\n",
       "      <td>1.1944</td>\n",
       "    </tr>\n",
       "    <tr>\n",
       "      <th>571030</th>\n",
       "      <td>571031</td>\n",
       "      <td>1616442900</td>\n",
       "      <td>1740.47</td>\n",
       "      <td>1740.47</td>\n",
       "      <td>1740.09</td>\n",
       "      <td>1740.85</td>\n",
       "      <td>1740.49</td>\n",
       "      <td>506.0</td>\n",
       "      <td>3.4</td>\n",
       "      <td>3.4</td>\n",
       "      <td>1.1941</td>\n",
       "    </tr>\n",
       "    <tr>\n",
       "      <th>571031</th>\n",
       "      <td>571032</td>\n",
       "      <td>1616443200</td>\n",
       "      <td>1740.68</td>\n",
       "      <td>1740.48</td>\n",
       "      <td>1740.44</td>\n",
       "      <td>1740.92</td>\n",
       "      <td>1740.69</td>\n",
       "      <td>451.0</td>\n",
       "      <td>7.1</td>\n",
       "      <td>5.7</td>\n",
       "      <td>1.1942</td>\n",
       "    </tr>\n",
       "    <tr>\n",
       "      <th>571032</th>\n",
       "      <td>571033</td>\n",
       "      <td>1616443500</td>\n",
       "      <td>1740.66</td>\n",
       "      <td>1740.69</td>\n",
       "      <td>1740.44</td>\n",
       "      <td>1740.89</td>\n",
       "      <td>1740.71</td>\n",
       "      <td>359.0</td>\n",
       "      <td>10.3</td>\n",
       "      <td>7.3</td>\n",
       "      <td>1.1943</td>\n",
       "    </tr>\n",
       "    <tr>\n",
       "      <th>571033</th>\n",
       "      <td>571034</td>\n",
       "      <td>1616443800</td>\n",
       "      <td>1740.40</td>\n",
       "      <td>1740.71</td>\n",
       "      <td>1740.02</td>\n",
       "      <td>1740.79</td>\n",
       "      <td>1740.51</td>\n",
       "      <td>303.0</td>\n",
       "      <td>10.1</td>\n",
       "      <td>8.8</td>\n",
       "      <td>1.1942</td>\n",
       "    </tr>\n",
       "    <tr>\n",
       "      <th>571034</th>\n",
       "      <td>571035</td>\n",
       "      <td>1616444100</td>\n",
       "      <td>1740.24</td>\n",
       "      <td>1740.56</td>\n",
       "      <td>1739.86</td>\n",
       "      <td>1740.62</td>\n",
       "      <td>1740.02</td>\n",
       "      <td>346.0</td>\n",
       "      <td>9.0</td>\n",
       "      <td>10.6</td>\n",
       "      <td>1.1943</td>\n",
       "    </tr>\n",
       "    <tr>\n",
       "      <th>571035</th>\n",
       "      <td>571036</td>\n",
       "      <td>1616444400</td>\n",
       "      <td>1739.77</td>\n",
       "      <td>1740.00</td>\n",
       "      <td>1739.54</td>\n",
       "      <td>1740.00</td>\n",
       "      <td>1739.54</td>\n",
       "      <td>295.0</td>\n",
       "      <td>8.8</td>\n",
       "      <td>10.9</td>\n",
       "      <td>1.1941</td>\n",
       "    </tr>\n",
       "    <tr>\n",
       "      <th>571036</th>\n",
       "      <td>571037</td>\n",
       "      <td>1616444700</td>\n",
       "      <td>1740.11</td>\n",
       "      <td>1739.56</td>\n",
       "      <td>1739.52</td>\n",
       "      <td>1740.70</td>\n",
       "      <td>1740.64</td>\n",
       "      <td>408.0</td>\n",
       "      <td>9.2</td>\n",
       "      <td>10.2</td>\n",
       "      <td>1.1940</td>\n",
       "    </tr>\n",
       "    <tr>\n",
       "      <th>571037</th>\n",
       "      <td>571038</td>\n",
       "      <td>1616445000</td>\n",
       "      <td>1740.58</td>\n",
       "      <td>1740.61</td>\n",
       "      <td>1740.34</td>\n",
       "      <td>1740.82</td>\n",
       "      <td>1740.50</td>\n",
       "      <td>253.0</td>\n",
       "      <td>10.1</td>\n",
       "      <td>10.4</td>\n",
       "      <td>1.1941</td>\n",
       "    </tr>\n",
       "    <tr>\n",
       "      <th>571038</th>\n",
       "      <td>571039</td>\n",
       "      <td>1616445300</td>\n",
       "      <td>1740.51</td>\n",
       "      <td>1740.47</td>\n",
       "      <td>1740.36</td>\n",
       "      <td>1740.67</td>\n",
       "      <td>1740.58</td>\n",
       "      <td>336.0</td>\n",
       "      <td>8.7</td>\n",
       "      <td>9.9</td>\n",
       "      <td>1.1941</td>\n",
       "    </tr>\n",
       "    <tr>\n",
       "      <th>571039</th>\n",
       "      <td>571040</td>\n",
       "      <td>1616445600</td>\n",
       "      <td>1740.45</td>\n",
       "      <td>1740.61</td>\n",
       "      <td>1740.25</td>\n",
       "      <td>1740.64</td>\n",
       "      <td>1740.35</td>\n",
       "      <td>271.0</td>\n",
       "      <td>6.7</td>\n",
       "      <td>8.7</td>\n",
       "      <td>1.1940</td>\n",
       "    </tr>\n",
       "    <tr>\n",
       "      <th>571040</th>\n",
       "      <td>571041</td>\n",
       "      <td>1616445900</td>\n",
       "      <td>1740.35</td>\n",
       "      <td>1740.39</td>\n",
       "      <td>1740.15</td>\n",
       "      <td>1740.55</td>\n",
       "      <td>1740.19</td>\n",
       "      <td>310.0</td>\n",
       "      <td>3.3</td>\n",
       "      <td>6.7</td>\n",
       "      <td>1.1941</td>\n",
       "    </tr>\n",
       "    <tr>\n",
       "      <th>571041</th>\n",
       "      <td>571042</td>\n",
       "      <td>1616446200</td>\n",
       "      <td>1739.95</td>\n",
       "      <td>1740.18</td>\n",
       "      <td>1739.67</td>\n",
       "      <td>1740.24</td>\n",
       "      <td>1739.70</td>\n",
       "      <td>289.0</td>\n",
       "      <td>3.1</td>\n",
       "      <td>5.9</td>\n",
       "      <td>1.1941</td>\n",
       "    </tr>\n",
       "    <tr>\n",
       "      <th>571042</th>\n",
       "      <td>571043</td>\n",
       "      <td>1616446500</td>\n",
       "      <td>1739.39</td>\n",
       "      <td>1739.69</td>\n",
       "      <td>1739.05</td>\n",
       "      <td>1739.74</td>\n",
       "      <td>1739.23</td>\n",
       "      <td>413.0</td>\n",
       "      <td>5.3</td>\n",
       "      <td>5.5</td>\n",
       "      <td>1.1941</td>\n",
       "    </tr>\n",
       "  </tbody>\n",
       "</table>\n",
       "</div>"
      ],
      "text/plain": [
       "        Number        DAte      MA1     Open     Low      High    Close  \\\n",
       "571000  571001  1616433900  1734.66  1735.10  1733.60  1735.72  1734.04   \n",
       "571001  571002  1616434200  1735.05  1734.05  1733.55  1736.56  1736.44   \n",
       "571002  571003  1616434500  1736.99  1736.42  1736.30  1737.69  1737.05   \n",
       "571003  571004  1616434800  1737.22  1737.07  1736.85  1737.60  1737.25   \n",
       "571004  571005  1616435100  1737.68  1737.25  1736.97  1738.38  1737.84   \n",
       "571005  571006  1616435400  1738.07  1737.84  1737.61  1738.54  1738.02   \n",
       "571006  571007  1616435700  1737.87  1738.05  1737.48  1738.25  1738.10   \n",
       "571007  571008  1616436000  1737.86  1738.13  1737.33  1738.39  1737.55   \n",
       "571008  571009  1616436300  1737.88  1737.55  1737.55  1738.20  1737.87   \n",
       "571009  571010  1616436600  1738.22  1737.85  1737.85  1738.59  1738.08   \n",
       "571010  571011  1616436900  1738.32  1737.99  1737.60  1739.05  1738.89   \n",
       "571011  571012  1616437200  1738.93  1738.94  1738.41  1739.45  1738.44   \n",
       "571012  571013  1616437500  1738.93  1738.37  1738.16  1739.70  1739.19   \n",
       "571013  571014  1616437800  1739.06  1739.15  1738.57  1739.55  1739.32   \n",
       "571014  571015  1616438100  1738.99  1739.30  1738.64  1739.34  1738.69   \n",
       "571015  571016  1616438400  1738.85  1738.73  1738.26  1739.44  1739.00   \n",
       "571016  571017  1616438700  1738.70  1739.03  1738.32  1739.08  1738.43   \n",
       "571017  571018  1616439000  1738.61  1738.56  1738.16  1739.05  1739.05   \n",
       "571018  571019  1616439300  1739.59  1739.11  1738.87  1740.31  1740.23   \n",
       "571019  571020  1616439600  1739.95  1740.19  1739.44  1740.47  1739.44   \n",
       "571020  571021  1616439900  1739.33  1739.43  1738.96  1739.69  1739.26   \n",
       "571021  571022  1616440200  1739.08  1739.28  1738.71  1739.45  1738.96   \n",
       "571022  571023  1616440500  1739.28  1739.00  1738.93  1739.63  1739.48   \n",
       "571023  571024  1616440800  1739.34  1739.48  1739.06  1739.61  1739.31   \n",
       "571024  571025  1616441100  1739.11  1739.27  1738.67  1739.54  1738.70   \n",
       "571025  571026  1616441400  1738.45  1738.68  1737.90  1738.99  1738.81   \n",
       "571026  571027  1616441700  1738.90  1738.81  1738.65  1739.15  1738.78   \n",
       "571027  571028  1616442000  1739.09  1738.82  1738.68  1739.49  1739.46   \n",
       "571028  571029  1616442300  1739.72  1739.36  1739.36  1740.09  1739.56   \n",
       "571029  571030  1616442600  1740.05  1739.56  1739.48  1740.61  1740.47   \n",
       "571030  571031  1616442900  1740.47  1740.47  1740.09  1740.85  1740.49   \n",
       "571031  571032  1616443200  1740.68  1740.48  1740.44  1740.92  1740.69   \n",
       "571032  571033  1616443500  1740.66  1740.69  1740.44  1740.89  1740.71   \n",
       "571033  571034  1616443800  1740.40  1740.71  1740.02  1740.79  1740.51   \n",
       "571034  571035  1616444100  1740.24  1740.56  1739.86  1740.62  1740.02   \n",
       "571035  571036  1616444400  1739.77  1740.00  1739.54  1740.00  1739.54   \n",
       "571036  571037  1616444700  1740.11  1739.56  1739.52  1740.70  1740.64   \n",
       "571037  571038  1616445000  1740.58  1740.61  1740.34  1740.82  1740.50   \n",
       "571038  571039  1616445300  1740.51  1740.47  1740.36  1740.67  1740.58   \n",
       "571039  571040  1616445600  1740.45  1740.61  1740.25  1740.64  1740.35   \n",
       "571040  571041  1616445900  1740.35  1740.39  1740.15  1740.55  1740.19   \n",
       "571041  571042  1616446200  1739.95  1740.18  1739.67  1740.24  1739.70   \n",
       "571042  571043  1616446500  1739.39  1739.69  1739.05  1739.74  1739.23   \n",
       "\n",
       "         Value  Trendpower3  Trendpower5  Price EURUSD  \n",
       "571000   968.0          4.3          8.2        1.1926  \n",
       "571001  1179.0          6.0          6.2        1.1931  \n",
       "571002   903.0          6.2          4.9        1.1936  \n",
       "571003   715.0          4.1          5.6        1.1934  \n",
       "571004   923.0          3.1          5.4        1.1932  \n",
       "571005   837.0          5.7          5.9        1.1933  \n",
       "571006   930.0         10.3          8.4        1.1932  \n",
       "571007   810.0         15.3         11.4        1.1930  \n",
       "571008   630.0         17.6         14.8        1.1930  \n",
       "571009   696.0         19.0         19.1        1.1932  \n",
       "571010   669.0         22.5         22.6        1.1931  \n",
       "571011   585.0         26.0         25.3        1.1933  \n",
       "571012   632.0         23.7         24.7        1.1933  \n",
       "571013   697.0         19.1         23.6        1.1934  \n",
       "571014   561.0         12.7         21.0        1.1934  \n",
       "571015   702.0          9.8         16.2        1.1934  \n",
       "571016   623.0          7.3         11.2        1.1936  \n",
       "571017   523.0          5.9          9.2        1.1936  \n",
       "571018   769.0          8.2          9.0        1.1937  \n",
       "571019   670.0         10.5          9.7        1.1937  \n",
       "571020   640.0         11.1         10.0        1.1936  \n",
       "571021   512.0          7.2          8.9        1.1936  \n",
       "571022   475.0          3.7          8.2        1.1940  \n",
       "571023   524.0          1.9          5.9        1.1942  \n",
       "571024   651.0          1.9          3.2        1.1942  \n",
       "571025   529.0          2.0          2.2        1.1942  \n",
       "571026   503.0          1.8          2.2        1.1944  \n",
       "571027   461.0          2.7          2.5        1.1943  \n",
       "571028   565.0          2.0          2.2        1.1945  \n",
       "571029   448.0          1.8          2.2        1.1944  \n",
       "571030   506.0          3.4          3.4        1.1941  \n",
       "571031   451.0          7.1          5.7        1.1942  \n",
       "571032   359.0         10.3          7.3        1.1943  \n",
       "571033   303.0         10.1          8.8        1.1942  \n",
       "571034   346.0          9.0         10.6        1.1943  \n",
       "571035   295.0          8.8         10.9        1.1941  \n",
       "571036   408.0          9.2         10.2        1.1940  \n",
       "571037   253.0         10.1         10.4        1.1941  \n",
       "571038   336.0          8.7          9.9        1.1941  \n",
       "571039   271.0          6.7          8.7        1.1940  \n",
       "571040   310.0          3.3          6.7        1.1941  \n",
       "571041   289.0          3.1          5.9        1.1941  \n",
       "571042   413.0          5.3          5.5        1.1941  "
      ]
     },
     "execution_count": 5,
     "metadata": {},
     "output_type": "execute_result"
    }
   ],
   "source": [
    "start_data[571000 : 571043]"
   ]
  },
  {
   "cell_type": "code",
   "execution_count": null,
   "metadata": {},
   "outputs": [],
   "source": []
  },
  {
   "cell_type": "code",
   "execution_count": null,
   "metadata": {},
   "outputs": [],
   "source": []
  },
  {
   "cell_type": "code",
   "execution_count": 6,
   "metadata": {},
   "outputs": [],
   "source": [
    "##=========  array variables =========\n",
    "arr_size = 571000   ## full data size for array (fibo)  //  размер общего массива \n",
    "arr_l_34 = 34        ## one day data size  //  размер массива для одного дня fibo \n",
    "arr_l_55 = 55        ## one day data size  //  размер массива для одного дня fibo \n",
    "result_size_8 = 8   ## predicted size  ///размер массива предсказаний fibo\n",
    "result_size_13 = 13   ## predicted size  ///размер массива предсказаний  fibo"
   ]
  },
  {
   "cell_type": "code",
   "execution_count": 7,
   "metadata": {},
   "outputs": [],
   "source": [
    "raw_data1 = np.zeros((arr_size, arr_l_34, 9))\n",
    "raw_results1 = np.zeros((arr_size, result_size_8))"
   ]
  },
  {
   "cell_type": "code",
   "execution_count": 18,
   "metadata": {},
   "outputs": [
    {
     "data": {
      "text/plain": [
       "(571000, 34, 9)"
      ]
     },
     "execution_count": 18,
     "metadata": {},
     "output_type": "execute_result"
    }
   ],
   "source": [
    "raw_data1.shape"
   ]
  },
  {
   "cell_type": "code",
   "execution_count": 19,
   "metadata": {},
   "outputs": [
    {
     "data": {
      "text/plain": [
       "(571000, 8)"
      ]
     },
     "execution_count": 19,
     "metadata": {},
     "output_type": "execute_result"
    }
   ],
   "source": [
    "raw_results1.shape"
   ]
  },
  {
   "cell_type": "code",
   "execution_count": null,
   "metadata": {},
   "outputs": [],
   "source": []
  },
  {
   "cell_type": "code",
   "execution_count": null,
   "metadata": {},
   "outputs": [],
   "source": []
  },
  {
   "cell_type": "code",
   "execution_count": 10,
   "metadata": {},
   "outputs": [],
   "source": [
    "a = start_data.loc[0 : 33, \"MA1\" : \"Price EURUSD\"] ##[, \"Low\", \"High\", \"Close\", \"Value\", \"Trendpower3\", \"Trendpower5\", ]"
   ]
  },
  {
   "cell_type": "code",
   "execution_count": 11,
   "metadata": {},
   "outputs": [
    {
     "data": {
      "text/plain": [
       "(34, 9)"
      ]
     },
     "execution_count": 11,
     "metadata": {},
     "output_type": "execute_result"
    }
   ],
   "source": [
    "test_arr = np.asarray(a)\n",
    "test_arr.shape"
   ]
  },
  {
   "cell_type": "code",
   "execution_count": 12,
   "metadata": {},
   "outputs": [],
   "source": [
    "raw_data1[0] = a"
   ]
  },
  {
   "cell_type": "code",
   "execution_count": 13,
   "metadata": {},
   "outputs": [
    {
     "data": {
      "text/plain": [
       "571000"
      ]
     },
     "execution_count": 13,
     "metadata": {},
     "output_type": "execute_result"
    }
   ],
   "source": [
    "raw_data1.shape[0]"
   ]
  },
  {
   "cell_type": "code",
   "execution_count": 14,
   "metadata": {},
   "outputs": [
    {
     "name": "stdout",
     "output_type": "stream",
     "text": [
      " === 100 % compleet ==="
     ]
    }
   ],
   "source": [
    "## here we filling   raw data set # 1 \n",
    "counter = raw_results1.shape[0] / 100   ## for visualisation progress \n",
    "for i in  range (raw_data1.shape[0]):\n",
    "     ## for visualisation progress \n",
    "    if  i > counter:\n",
    "        counter += raw_results1.shape[0] / 100\n",
    "        print ('\\r', \"===\",(int(counter / raw_results1.shape[0] * 100) ),\"% compleet ===\", end = '')\n",
    "    \n",
    "    ## filling array  \n",
    "    df_slice = start_data.loc[i : i + arr_l_34 - 1 , \"MA1\" : \"Price EURUSD\"]\n",
    "    raw_data1[i] = np.asarray(df_slice)"
   ]
  },
  {
   "cell_type": "code",
   "execution_count": 15,
   "metadata": {},
   "outputs": [
    {
     "name": "stdout",
     "output_type": "stream",
     "text": [
      " === 100 % compleet ==="
     ]
    }
   ],
   "source": [
    "## here we filling  raw result set #1  \n",
    "counter = raw_results1.shape[0] / 100   ## for visualisation progress \n",
    "for i in range (raw_results1.shape[0]):\n",
    "    ## for visualisation progress \n",
    "    if  i > counter:\n",
    "        counter += raw_results1.shape[0] / 100\n",
    "        print ('\\r', \"===\",(int(counter / raw_results1.shape[0] * 100) ),\"% compleet ===\", end = '')\n",
    "    \n",
    "    ## filling array    \n",
    "    df_slice = start_data.loc[i + arr_l_34 : i + arr_l_34 + result_size_8 -1, \"MA1\"]\n",
    "    raw_results1[i] = np.asarray(df_slice)"
   ]
  },
  {
   "cell_type": "code",
   "execution_count": null,
   "metadata": {},
   "outputs": [],
   "source": []
  },
  {
   "cell_type": "code",
   "execution_count": 134,
   "metadata": {},
   "outputs": [],
   "source": [
    "os_x_for_predict = []\n",
    "for i in range(8):\n",
    "    os_x_for_predict.append(i)\n",
    "\n",
    "## function reterned\n",
    "def PlotChart(data_for_first_curve, data_for_second_curve):\n",
    "    plt.plot(os_x_for_predict, data_for_first_curve, 'r', label = 'predict ')   ## Draw a prediction curve\n",
    "    plt.plot(os_x_for_predict, data_for_second_curve, 'g', label = 'real')      ## Draw a real curve\n",
    "    plt.legend()\n",
    "    plt.show()"
   ]
  },
  {
   "cell_type": "code",
   "execution_count": null,
   "metadata": {},
   "outputs": [],
   "source": []
  },
  {
   "cell_type": "code",
   "execution_count": null,
   "metadata": {},
   "outputs": [],
   "source": []
  },
  {
   "cell_type": "code",
   "execution_count": 20,
   "metadata": {},
   "outputs": [],
   "source": [
    "\n",
    "\n",
    "\n",
    "\n",
    "\n",
    "## forming sets for train and validation\n",
    "train_size = 500000\n",
    "validation_size = 70000\n",
    "fin_validation_size = 1000\n",
    "\n",
    "train_data1 = raw_data1[ : train_size ].copy()\n",
    "train_results1 = raw_results1[ : train_size].copy()\n",
    "validation_data1 = raw_data1[train_size : train_size + validation_size]. copy()\n",
    "validation_results1 = raw_results1[train_size : train_size + validation_size].copy()\n",
    "fin_validation_data1 = raw_data1[train_size + validation_size : train_size + validation_size + fin_validation_size].copy()\n",
    "fin_validation_results1 = raw_results1[train_size + validation_size : train_size + validation_size + fin_validation_size].copy()\n"
   ]
  },
  {
   "cell_type": "code",
   "execution_count": 21,
   "metadata": {},
   "outputs": [],
   "source": [
    "## Normalization  datasets\n",
    "\n",
    "full_data_array = start_data.loc[ : , \"MA1\" : \"Price EURUSD\"]   ## array  ful data\n",
    "\n",
    "## here we find Mean & STD for the training data (after we will use them to normalize the validation and final validation sets ) \n",
    "mean = full_data_array [ : train_size].mean(axis = 0)\n",
    "std = full_data_array [ : train_size].std(axis = 0)\n",
    "\n",
    "train_data1 -= mean\n",
    "train_data1 /=std\n",
    "\n",
    "validation_data1 -= mean\n",
    "validation_data1 /=std\n",
    "\n",
    "fin_validation_data1 -= mean\n",
    "fin_validation_data1 /=std \n"
   ]
  },
  {
   "cell_type": "code",
   "execution_count": 34,
   "metadata": {},
   "outputs": [
    {
     "data": {
      "text/plain": [
       "(500000, 34, 9)"
      ]
     },
     "execution_count": 34,
     "metadata": {},
     "output_type": "execute_result"
    }
   ],
   "source": [
    "train_data1.shape"
   ]
  },
  {
   "cell_type": "code",
   "execution_count": 65,
   "metadata": {},
   "outputs": [],
   "source": [
    "from keras.models import Sequential\n",
    "from keras import layers\n",
    "from keras.optimizers import RMSprop"
   ]
  },
  {
   "cell_type": "code",
   "execution_count": 306,
   "metadata": {},
   "outputs": [
    {
     "name": "stdout",
     "output_type": "stream",
     "text": [
      "Epoch 1/20\n",
      "3907/3907 [==============================] - 580s 147ms/step - loss: 1227.5286 - mae: 1227.5286 - accuracy: 0.0851 - mape: 94.7270 - val_loss: 1558.8751 - val_mae: 1558.8751 - val_accuracy: 0.0844 - val_mape: 85.7345\n",
      "Epoch 2/20\n",
      "3907/3907 [==============================] - 558s 143ms/step - loss: 973.6227 - mae: 973.6227 - accuracy: 0.0845 - mape: 74.9528 - val_loss: 1304.9379 - val_mae: 1304.9379 - val_accuracy: 0.0844 - val_mape: 71.7074\n",
      "Epoch 3/20\n",
      "3907/3907 [==============================] - 565s 145ms/step - loss: 719.8311 - mae: 719.8311 - accuracy: 0.0849 - mape: 55.1874 - val_loss: 1050.8850 - val_mae: 1050.8850 - val_accuracy: 0.0844 - val_mape: 57.6738\n",
      "Epoch 4/20\n",
      "3907/3907 [==============================] - 546s 140ms/step - loss: 465.6398 - mae: 465.6398 - accuracy: 0.0855 - mape: 35.4060 - val_loss: 796.8277 - val_mae: 796.8277 - val_accuracy: 0.0844 - val_mape: 43.6400\n",
      "Epoch 5/20\n",
      "3907/3907 [==============================] - 546s 140ms/step - loss: 214.8549 - mae: 214.8549 - accuracy: 0.0846 - mape: 15.9211 - val_loss: 548.8404 - val_mae: 548.8404 - val_accuracy: 0.0844 - val_mape: 29.9416\n",
      "Epoch 6/20\n",
      "3907/3907 [==============================] - 542s 139ms/step - loss: 87.2605 - mae: 87.2605 - accuracy: 0.1273 - mape: 6.5059 - val_loss: 538.4977 - val_mae: 538.4977 - val_accuracy: 0.1036 - val_mape: 29.3703\n",
      "Epoch 7/20\n",
      "3907/3907 [==============================] - 545s 139ms/step - loss: 87.0623 - mae: 87.0623 - accuracy: 0.1356 - mape: 6.5015 - val_loss: 538.4359 - val_mae: 538.4359 - val_accuracy: 0.1036 - val_mape: 29.3669\n",
      "Epoch 8/20\n",
      "3907/3907 [==============================] - 541s 139ms/step - loss: 87.3263 - mae: 87.3263 - accuracy: 0.1382 - mape: 6.5186 - val_loss: 537.8596 - val_mae: 537.8596 - val_accuracy: 0.2163 - val_mape: 29.3351\n",
      "Epoch 9/20\n",
      "3907/3907 [==============================] - 541s 138ms/step - loss: 86.9693 - mae: 86.9693 - accuracy: 0.1340 - mape: 6.4928 - val_loss: 516.7526 - val_mae: 516.7526 - val_accuracy: 0.0900 - val_mape: 28.1691\n",
      "Epoch 10/20\n",
      "3907/3907 [==============================] - 542s 139ms/step - loss: 35.8361 - mae: 35.8361 - accuracy: 0.1108 - mape: 2.3744 - val_loss: 838.6546 - val_mae: 838.6546 - val_accuracy: 0.1209 - val_mape: 44.7233\n",
      "Epoch 11/20\n",
      "3907/3907 [==============================] - 544s 139ms/step - loss: 17.3603 - mae: 17.3603 - accuracy: 0.1249 - mape: 1.1326 - val_loss: 663.5644 - val_mae: 663.5644 - val_accuracy: 0.1911 - val_mape: 35.0146\n",
      "Epoch 12/20\n",
      "3907/3907 [==============================] - 544s 139ms/step - loss: 9.8872 - mae: 9.8872 - accuracy: 0.1405 - mape: 0.6455 - val_loss: 1290.9031 - val_mae: 1290.9031 - val_accuracy: 0.1493 - val_mape: 68.7176\n",
      "Epoch 13/20\n",
      "3907/3907 [==============================] - 557s 143ms/step - loss: 6.6549 - mae: 6.6549 - accuracy: 0.1439 - mape: 0.4386 - val_loss: 1090.6592 - val_mae: 1090.6592 - val_accuracy: 0.2259 - val_mape: 57.7801\n",
      "Epoch 14/20\n",
      "3907/3907 [==============================] - 542s 139ms/step - loss: 4.6547 - mae: 4.6547 - accuracy: 0.1497 - mape: 0.3121 - val_loss: 1400.1141 - val_mae: 1400.1141 - val_accuracy: 0.2266 - val_mape: 74.4455\n",
      "Epoch 15/20\n",
      "3907/3907 [==============================] - 543s 139ms/step - loss: 3.5580 - mae: 3.5580 - accuracy: 0.1437 - mape: 0.2424 - val_loss: 1410.2150 - val_mae: 1410.2150 - val_accuracy: 0.2268 - val_mape: 74.8943\n",
      "Epoch 16/20\n",
      "3907/3907 [==============================] - 543s 139ms/step - loss: 2.9612 - mae: 2.9612 - accuracy: 0.1486 - mape: 0.2046 - val_loss: 1732.1586 - val_mae: 1732.1586 - val_accuracy: 0.2260 - val_mape: 93.4930\n",
      "Epoch 17/20\n",
      "3907/3907 [==============================] - 544s 139ms/step - loss: 2.5515 - mae: 2.5515 - accuracy: 0.1522 - mape: 0.1787 - val_loss: 1239.4886 - val_mae: 1239.4886 - val_accuracy: 0.1809 - val_mape: 65.4542\n",
      "Epoch 18/20\n",
      "3907/3907 [==============================] - 544s 139ms/step - loss: 2.2136 - mae: 2.2136 - accuracy: 0.1456 - mape: 0.1573 - val_loss: 1079.9397 - val_mae: 1079.9397 - val_accuracy: 0.1918 - val_mape: 56.7716\n",
      "Epoch 19/20\n",
      "3907/3907 [==============================] - 545s 139ms/step - loss: 1.9047 - mae: 1.9047 - accuracy: 0.1417 - mape: 0.1378 - val_loss: 1040.1746 - val_mae: 1040.1746 - val_accuracy: 0.2180 - val_mape: 54.5715\n",
      "Epoch 20/20\n",
      "3907/3907 [==============================] - 548s 140ms/step - loss: 1.6804 - mae: 1.6804 - accuracy: 0.1353 - mape: 0.1237 - val_loss: 585.2894 - val_mae: 585.2894 - val_accuracy: 0.2088 - val_mape: 30.3826\n"
     ]
    }
   ],
   "source": [
    "test_model1 = Sequential()\n",
    "test_model1.add(layers.GRU(64, return_sequences = True))\n",
    "test_model1.add(layers.GRU(64, return_sequences = True))\n",
    "test_model1.add(layers.GRU(64))\n",
    "test_model1.add(layers.Dense(8))\n",
    "test_model1.compile(optimizer = 'rmsprop', loss = 'mae', metrics = ['mae', 'accuracy', 'mape'] )\n",
    "\n",
    "\n",
    "history1 = test_model1.fit(train_data1, \n",
    "                train_results1, \n",
    "                epochs = 20, \n",
    "                batch_size = 128, \n",
    "                validation_data = (validation_data1, validation_results1))\n",
    "\n"
   ]
  },
  {
   "cell_type": "code",
   "execution_count": 307,
   "metadata": {},
   "outputs": [
    {
     "name": "stdout",
     "output_type": "stream",
     "text": [
      "Epoch 1/20\n",
      "3907/3907 [==============================] - 1010s 257ms/step - loss: 1163.6433 - mae: 1163.6433 - accuracy: 0.2298 - mape: 89.7211 - val_loss: 1307.0367 - val_mae: 1307.0367 - val_accuracy: 0.2163 - val_mape: 71.8232\n",
      "Epoch 2/20\n",
      "3907/3907 [==============================] - 991s 254ms/step - loss: 659.2377 - mae: 659.2377 - accuracy: 0.2307 - mape: 50.4799 - val_loss: 803.0696 - val_mae: 803.0696 - val_accuracy: 0.2163 - val_mape: 43.9848\n",
      "Epoch 3/20\n",
      "3907/3907 [==============================] - 990s 253ms/step - loss: 181.8235 - mae: 181.8235 - accuracy: 0.2215 - mape: 13.4642 - val_loss: 537.7885 - val_mae: 537.7885 - val_accuracy: 0.2274 - val_mape: 29.3311\n",
      "Epoch 4/20\n",
      "3907/3907 [==============================] - 991s 254ms/step - loss: 87.0215 - mae: 87.0215 - accuracy: 0.1518 - mape: 6.4988 - val_loss: 538.6583 - val_mae: 538.6583 - val_accuracy: 0.0900 - val_mape: 29.3791\n",
      "Epoch 5/20\n",
      "3907/3907 [==============================] - 990s 253ms/step - loss: 87.2523 - mae: 87.2523 - accuracy: 0.1566 - mape: 6.5145 - val_loss: 538.9418 - val_mae: 538.9418 - val_accuracy: 0.2274 - val_mape: 29.3948\n",
      "Epoch 6/20\n",
      "3907/3907 [==============================] - 995s 255ms/step - loss: 55.5199 - mae: 55.5199 - accuracy: 0.1322 - mape: 3.9746 - val_loss: 357.2041 - val_mae: 357.2041 - val_accuracy: 0.2274 - val_mape: 19.3559\n",
      "Epoch 7/20\n",
      "3907/3907 [==============================] - 999s 256ms/step - loss: 11.4597 - mae: 11.4597 - accuracy: 0.1278 - mape: 0.7547 - val_loss: 267.9564 - val_mae: 267.9564 - val_accuracy: 0.2274 - val_mape: 14.4428\n",
      "Epoch 8/20\n",
      "3907/3907 [==============================] - 1002s 257ms/step - loss: 5.3643 - mae: 5.3643 - accuracy: 0.1423 - mape: 0.3633 - val_loss: 227.5034 - val_mae: 227.5034 - val_accuracy: 0.2255 - val_mape: 12.2115\n",
      "Epoch 9/20\n",
      "3907/3907 [==============================] - 1002s 256ms/step - loss: 3.6034 - mae: 3.6034 - accuracy: 0.1430 - mape: 0.2512 - val_loss: 203.3328 - val_mae: 203.3328 - val_accuracy: 0.2250 - val_mape: 10.8847\n",
      "Epoch 10/20\n",
      "3907/3907 [==============================] - 1005s 257ms/step - loss: 2.8850 - mae: 2.8850 - accuracy: 0.1492 - mape: 0.2063 - val_loss: 181.1593 - val_mae: 181.1593 - val_accuracy: 0.2247 - val_mape: 9.6774\n",
      "Epoch 11/20\n",
      "3907/3907 [==============================] - 1029s 263ms/step - loss: 2.4748 - mae: 2.4748 - accuracy: 0.1459 - mape: 0.1874 - val_loss: 174.1092 - val_mae: 174.1092 - val_accuracy: 0.2236 - val_mape: 9.2593\n",
      "Epoch 12/20\n",
      "3907/3907 [==============================] - 941s 241ms/step - loss: 1.9499 - mae: 1.9499 - accuracy: 0.1354 - mape: 0.1458 - val_loss: 275.8693 - val_mae: 275.8693 - val_accuracy: 0.2098 - val_mape: 14.3324\n",
      "Epoch 13/20\n",
      "3907/3907 [==============================] - 1004s 257ms/step - loss: 1.7226 - mae: 1.7226 - accuracy: 0.1378 - mape: 0.1303 - val_loss: 188.7434 - val_mae: 188.7434 - val_accuracy: 0.2201 - val_mape: 9.8923\n",
      "Epoch 14/20\n",
      "3907/3907 [==============================] - 1006s 257ms/step - loss: 1.6150 - mae: 1.6150 - accuracy: 0.1398 - mape: 0.1229 - val_loss: 147.8284 - val_mae: 147.8284 - val_accuracy: 0.2208 - val_mape: 7.8545\n",
      "Epoch 15/20\n",
      "3907/3907 [==============================] - 1006s 257ms/step - loss: 1.5406 - mae: 1.5406 - accuracy: 0.1342 - mape: 0.1175 - val_loss: 892.5833 - val_mae: 892.5833 - val_accuracy: 0.2065 - val_mape: 48.5004\n",
      "Epoch 16/20\n",
      "3907/3907 [==============================] - 1005s 257ms/step - loss: 1.4986 - mae: 1.4986 - accuracy: 0.1313 - mape: 0.1141 - val_loss: 147.5009 - val_mae: 147.5009 - val_accuracy: 0.2186 - val_mape: 7.8155\n",
      "Epoch 17/20\n",
      "3907/3907 [==============================] - 1006s 257ms/step - loss: 1.4438 - mae: 1.4438 - accuracy: 0.1329 - mape: 0.1102 - val_loss: 697.2371 - val_mae: 697.2371 - val_accuracy: 0.1804 - val_mape: 36.1925\n",
      "Epoch 18/20\n",
      "3907/3907 [==============================] - 1004s 257ms/step - loss: 1.5556 - mae: 1.5556 - accuracy: 0.1367 - mape: 0.1161 - val_loss: 518.2315 - val_mae: 518.2315 - val_accuracy: 0.2162 - val_mape: 26.8831\n",
      "Epoch 19/20\n",
      "3907/3907 [==============================] - 1006s 257ms/step - loss: 1.3982 - mae: 1.3982 - accuracy: 0.1383 - mape: 0.1064 - val_loss: 963.5080 - val_mae: 963.5080 - val_accuracy: 0.2209 - val_mape: 50.9633\n",
      "Epoch 20/20\n",
      "3907/3907 [==============================] - 1006s 258ms/step - loss: 1.3608 - mae: 1.3608 - accuracy: 0.1362 - mape: 0.1036 - val_loss: 456.0788 - val_mae: 456.0788 - val_accuracy: 0.2131 - val_mape: 23.7397\n"
     ]
    }
   ],
   "source": [
    "test_model2 = Sequential()\n",
    "test_model2.add(layers.GRU(128, return_sequences = True))\n",
    "test_model2.add(layers.GRU(128, return_sequences = True))\n",
    "test_model2.add(layers.GRU(128))\n",
    "test_model2.add(layers.Dense(8))\n",
    "test_model2.compile(optimizer = 'rmsprop', loss = 'mae', metrics = ['mae', 'accuracy', 'mape'] )\n",
    "\n",
    "\n",
    "history2 = test_model2.fit(train_data1, \n",
    "                train_results1, \n",
    "                epochs = 20, \n",
    "                batch_size = 128, \n",
    "                validation_data = (validation_data1, validation_results1))\n"
   ]
  },
  {
   "cell_type": "code",
   "execution_count": 308,
   "metadata": {},
   "outputs": [
    {
     "name": "stdout",
     "output_type": "stream",
     "text": [
      "Epoch 1/20\n",
      "3907/3907 [==============================] - 654s 165ms/step - loss: 1277.2611 - mae: 1277.2611 - accuracy: 0.2293 - mape: 98.6005 - val_loss: 1749.3195 - val_mae: 1749.3195 - val_accuracy: 0.2163 - val_mape: 96.2543\n",
      "Epoch 2/20\n",
      "3907/3907 [==============================] - 649s 166ms/step - loss: 1211.0135 - mae: 1211.0135 - accuracy: 0.2316 - mape: 93.4287 - val_loss: 1682.9065 - val_mae: 1682.9065 - val_accuracy: 0.2163 - val_mape: 92.5856\n",
      "Epoch 3/20\n",
      "3907/3907 [==============================] - 652s 167ms/step - loss: 1144.7712 - mae: 1144.7712 - accuracy: 0.2294 - mape: 88.2596 - val_loss: 1616.4609 - val_mae: 1616.4609 - val_accuracy: 0.2163 - val_mape: 88.9155\n",
      "Epoch 4/20\n",
      "3907/3907 [==============================] - 650s 166ms/step - loss: 1078.0177 - mae: 1078.0177 - accuracy: 0.2313 - mape: 83.0842 - val_loss: 1550.0153 - val_mae: 1550.0153 - val_accuracy: 0.2163 - val_mape: 85.2451\n",
      "Epoch 5/20\n",
      "3907/3907 [==============================] - 650s 166ms/step - loss: 1011.8507 - mae: 1011.8507 - accuracy: 0.2311 - mape: 77.9159 - val_loss: 1483.6271 - val_mae: 1483.6271 - val_accuracy: 0.2163 - val_mape: 81.5779\n",
      "Epoch 6/20\n",
      "3907/3907 [==============================] - 651s 167ms/step - loss: 945.3944 - mae: 945.3944 - accuracy: 0.2304 - mape: 72.7473 - val_loss: 1417.2456 - val_mae: 1417.2456 - val_accuracy: 0.2163 - val_mape: 77.9110\n",
      "Epoch 7/20\n",
      "3907/3907 [==============================] - 649s 166ms/step - loss: 878.8854 - mae: 878.8854 - accuracy: 0.2314 - mape: 67.5773 - val_loss: 1350.8629 - val_mae: 1350.8629 - val_accuracy: 0.2163 - val_mape: 74.2442\n",
      "Epoch 8/20\n",
      "3907/3907 [==============================] - 651s 167ms/step - loss: 812.6217 - mae: 812.6217 - accuracy: 0.2316 - mape: 62.4118 - val_loss: 1284.4806 - val_mae: 1284.4806 - val_accuracy: 0.2163 - val_mape: 70.5773\n",
      "Epoch 9/20\n",
      "3907/3907 [==============================] - 651s 167ms/step - loss: 746.4367 - mae: 746.4367 - accuracy: 0.2316 - mape: 57.2504 - val_loss: 1218.0977 - val_mae: 1218.0977 - val_accuracy: 0.2163 - val_mape: 66.9104\n",
      "Epoch 10/20\n",
      "3907/3907 [==============================] - 651s 167ms/step - loss: 679.9562 - mae: 679.9562 - accuracy: 0.2305 - mape: 52.0808 - val_loss: 1151.7157 - val_mae: 1151.7157 - val_accuracy: 0.2163 - val_mape: 63.2435\n",
      "Epoch 11/20\n",
      "3907/3907 [==============================] - 651s 167ms/step - loss: 613.3318 - mae: 613.3318 - accuracy: 0.2319 - mape: 46.9058 - val_loss: 1085.3326 - val_mae: 1085.3326 - val_accuracy: 0.2163 - val_mape: 59.5766\n",
      "Epoch 12/20\n",
      "3907/3907 [==============================] - 654s 167ms/step - loss: 547.2234 - mae: 547.2234 - accuracy: 0.2301 - mape: 41.7475 - val_loss: 1018.9503 - val_mae: 1018.9503 - val_accuracy: 0.2163 - val_mape: 55.9098\n",
      "Epoch 13/20\n",
      "3907/3907 [==============================] - 652s 167ms/step - loss: 480.3624 - mae: 480.3624 - accuracy: 0.2310 - mape: 36.5597 - val_loss: 952.5676 - val_mae: 952.5676 - val_accuracy: 0.2163 - val_mape: 52.2429\n",
      "Epoch 14/20\n",
      "3907/3907 [==============================] - 655s 168ms/step - loss: 413.8974 - mae: 413.8974 - accuracy: 0.2297 - mape: 31.3863 - val_loss: 886.1854 - val_mae: 886.1854 - val_accuracy: 0.2163 - val_mape: 48.5761\n",
      "Epoch 15/20\n",
      "3907/3907 [==============================] - 651s 167ms/step - loss: 347.7455 - mae: 347.7455 - accuracy: 0.2314 - mape: 26.2328 - val_loss: 819.8031 - val_mae: 819.8031 - val_accuracy: 0.2163 - val_mape: 44.9092\n",
      "Epoch 16/20\n",
      "3907/3907 [==============================] - 658s 168ms/step - loss: 281.6859 - mae: 281.6859 - accuracy: 0.2310 - mape: 21.0807 - val_loss: 753.4158 - val_mae: 753.4158 - val_accuracy: 0.2163 - val_mape: 41.2420\n",
      "Epoch 17/20\n",
      "3907/3907 [==============================] - 656s 168ms/step - loss: 215.3952 - mae: 215.3952 - accuracy: 0.2321 - mape: 15.9365 - val_loss: 687.0520 - val_mae: 687.0520 - val_accuracy: 0.2163 - val_mape: 37.5762\n",
      "Epoch 18/20\n",
      "3907/3907 [==============================] - 659s 169ms/step - loss: 155.5531 - mae: 155.5531 - accuracy: 0.2303 - mape: 11.3478 - val_loss: 620.8251 - val_mae: 620.8251 - val_accuracy: 0.2163 - val_mape: 33.9179\n",
      "Epoch 19/20\n",
      "3907/3907 [==============================] - 663s 170ms/step - loss: 106.5942 - mae: 106.5942 - accuracy: 0.2314 - mape: 7.7197 - val_loss: 556.7740 - val_mae: 556.7740 - val_accuracy: 0.2163 - val_mape: 30.3798\n",
      "Epoch 20/20\n",
      "3907/3907 [==============================] - 710s 182ms/step - loss: 87.7489 - mae: 87.7489 - accuracy: 0.2232 - mape: 6.5119 - val_loss: 538.6250 - val_mae: 538.6250 - val_accuracy: 0.0903 - val_mape: 29.3773\n"
     ]
    }
   ],
   "source": [
    "test_model3 = Sequential()\n",
    "test_model3.add(layers.GRU(128, return_sequences = True))\n",
    "test_model3.add(layers.GRU(64, return_sequences = True))\n",
    "test_model3.add(layers.GRU(32, return_sequences = True))\n",
    "test_model3.add(layers.GRU(16 ))\n",
    "test_model3.add(layers.Dense(8))\n",
    "test_model3.compile(optimizer = 'rmsprop', loss = 'mae', metrics = ['mae', 'accuracy', 'mape'] )\n",
    "\n",
    "\n",
    "history3 = test_model3.fit(train_data1, \n",
    "                train_results1, \n",
    "                epochs = 20, \n",
    "                batch_size = 128, \n",
    "                validation_data = (validation_data1, validation_results1))\n"
   ]
  },
  {
   "cell_type": "code",
   "execution_count": 309,
   "metadata": {},
   "outputs": [
    {
     "name": "stdout",
     "output_type": "stream",
     "text": [
      "Epoch 1/20\n",
      "3907/3907 [==============================] - 2734s 698ms/step - loss: 1034.8158 - mae: 1034.8158 - accuracy: 0.1068 - mape: 79.7243 - val_loss: 803.5242 - val_mae: 803.5242 - val_accuracy: 0.1033 - val_mape: 44.0099\n",
      "Epoch 2/20\n",
      "3907/3907 [==============================] - 2691s 689ms/step - loss: 149.1903 - mae: 149.1903 - accuracy: 0.1166 - mape: 11.0462 - val_loss: 487.1717 - val_mae: 487.1717 - val_accuracy: 0.2163 - val_mape: 26.5351\n",
      "Epoch 3/20\n",
      "3907/3907 [==============================] - 2688s 688ms/step - loss: 23.4536 - mae: 23.4536 - accuracy: 0.1413 - mape: 1.5595 - val_loss: 248.2561 - val_mae: 248.2561 - val_accuracy: 0.1046 - val_mape: 13.3575\n",
      "Epoch 4/20\n",
      "3907/3907 [==============================] - 2703s 692ms/step - loss: 4.8119 - mae: 4.8119 - accuracy: 0.1418 - mape: 0.3395 - val_loss: 191.4970 - val_mae: 191.4970 - val_accuracy: 0.2218 - val_mape: 10.2458\n",
      "Epoch 5/20\n",
      "1921/3907 [=============>................] - ETA: 22:42 - loss: 3.1166 - mae: 3.1166 - accuracy: 0.1357 - mape: 0.2281"
     ]
    },
    {
     "ename": "KeyboardInterrupt",
     "evalue": "",
     "output_type": "error",
     "traceback": [
      "\u001b[1;31m---------------------------------------------------------------------------\u001b[0m",
      "\u001b[1;31mKeyboardInterrupt\u001b[0m                         Traceback (most recent call last)",
      "\u001b[1;32m<ipython-input-309-63028e9c1b5d>\u001b[0m in \u001b[0;36m<module>\u001b[1;34m\u001b[0m\n\u001b[0;32m      7\u001b[0m \u001b[1;33m\u001b[0m\u001b[0m\n\u001b[0;32m      8\u001b[0m \u001b[1;33m\u001b[0m\u001b[0m\n\u001b[1;32m----> 9\u001b[1;33m history4 = test_model4.fit(train_data1, \n\u001b[0m\u001b[0;32m     10\u001b[0m                 \u001b[0mtrain_results1\u001b[0m\u001b[1;33m,\u001b[0m\u001b[1;33m\u001b[0m\u001b[1;33m\u001b[0m\u001b[0m\n\u001b[0;32m     11\u001b[0m                 \u001b[0mepochs\u001b[0m \u001b[1;33m=\u001b[0m \u001b[1;36m20\u001b[0m\u001b[1;33m,\u001b[0m\u001b[1;33m\u001b[0m\u001b[1;33m\u001b[0m\u001b[0m\n",
      "\u001b[1;32mG:\\anaconda3\\lib\\site-packages\\tensorflow\\python\\keras\\engine\\training.py\u001b[0m in \u001b[0;36mfit\u001b[1;34m(self, x, y, batch_size, epochs, verbose, callbacks, validation_split, validation_data, shuffle, class_weight, sample_weight, initial_epoch, steps_per_epoch, validation_steps, validation_batch_size, validation_freq, max_queue_size, workers, use_multiprocessing)\u001b[0m\n\u001b[0;32m   1098\u001b[0m                 _r=1):\n\u001b[0;32m   1099\u001b[0m               \u001b[0mcallbacks\u001b[0m\u001b[1;33m.\u001b[0m\u001b[0mon_train_batch_begin\u001b[0m\u001b[1;33m(\u001b[0m\u001b[0mstep\u001b[0m\u001b[1;33m)\u001b[0m\u001b[1;33m\u001b[0m\u001b[1;33m\u001b[0m\u001b[0m\n\u001b[1;32m-> 1100\u001b[1;33m               \u001b[0mtmp_logs\u001b[0m \u001b[1;33m=\u001b[0m \u001b[0mself\u001b[0m\u001b[1;33m.\u001b[0m\u001b[0mtrain_function\u001b[0m\u001b[1;33m(\u001b[0m\u001b[0miterator\u001b[0m\u001b[1;33m)\u001b[0m\u001b[1;33m\u001b[0m\u001b[1;33m\u001b[0m\u001b[0m\n\u001b[0m\u001b[0;32m   1101\u001b[0m               \u001b[1;32mif\u001b[0m \u001b[0mdata_handler\u001b[0m\u001b[1;33m.\u001b[0m\u001b[0mshould_sync\u001b[0m\u001b[1;33m:\u001b[0m\u001b[1;33m\u001b[0m\u001b[1;33m\u001b[0m\u001b[0m\n\u001b[0;32m   1102\u001b[0m                 \u001b[0mcontext\u001b[0m\u001b[1;33m.\u001b[0m\u001b[0masync_wait\u001b[0m\u001b[1;33m(\u001b[0m\u001b[1;33m)\u001b[0m\u001b[1;33m\u001b[0m\u001b[1;33m\u001b[0m\u001b[0m\n",
      "\u001b[1;32mG:\\anaconda3\\lib\\site-packages\\tensorflow\\python\\eager\\def_function.py\u001b[0m in \u001b[0;36m__call__\u001b[1;34m(self, *args, **kwds)\u001b[0m\n\u001b[0;32m    826\u001b[0m     \u001b[0mtracing_count\u001b[0m \u001b[1;33m=\u001b[0m \u001b[0mself\u001b[0m\u001b[1;33m.\u001b[0m\u001b[0mexperimental_get_tracing_count\u001b[0m\u001b[1;33m(\u001b[0m\u001b[1;33m)\u001b[0m\u001b[1;33m\u001b[0m\u001b[1;33m\u001b[0m\u001b[0m\n\u001b[0;32m    827\u001b[0m     \u001b[1;32mwith\u001b[0m \u001b[0mtrace\u001b[0m\u001b[1;33m.\u001b[0m\u001b[0mTrace\u001b[0m\u001b[1;33m(\u001b[0m\u001b[0mself\u001b[0m\u001b[1;33m.\u001b[0m\u001b[0m_name\u001b[0m\u001b[1;33m)\u001b[0m \u001b[1;32mas\u001b[0m \u001b[0mtm\u001b[0m\u001b[1;33m:\u001b[0m\u001b[1;33m\u001b[0m\u001b[1;33m\u001b[0m\u001b[0m\n\u001b[1;32m--> 828\u001b[1;33m       \u001b[0mresult\u001b[0m \u001b[1;33m=\u001b[0m \u001b[0mself\u001b[0m\u001b[1;33m.\u001b[0m\u001b[0m_call\u001b[0m\u001b[1;33m(\u001b[0m\u001b[1;33m*\u001b[0m\u001b[0margs\u001b[0m\u001b[1;33m,\u001b[0m \u001b[1;33m**\u001b[0m\u001b[0mkwds\u001b[0m\u001b[1;33m)\u001b[0m\u001b[1;33m\u001b[0m\u001b[1;33m\u001b[0m\u001b[0m\n\u001b[0m\u001b[0;32m    829\u001b[0m       \u001b[0mcompiler\u001b[0m \u001b[1;33m=\u001b[0m \u001b[1;34m\"xla\"\u001b[0m \u001b[1;32mif\u001b[0m \u001b[0mself\u001b[0m\u001b[1;33m.\u001b[0m\u001b[0m_experimental_compile\u001b[0m \u001b[1;32melse\u001b[0m \u001b[1;34m\"nonXla\"\u001b[0m\u001b[1;33m\u001b[0m\u001b[1;33m\u001b[0m\u001b[0m\n\u001b[0;32m    830\u001b[0m       \u001b[0mnew_tracing_count\u001b[0m \u001b[1;33m=\u001b[0m \u001b[0mself\u001b[0m\u001b[1;33m.\u001b[0m\u001b[0mexperimental_get_tracing_count\u001b[0m\u001b[1;33m(\u001b[0m\u001b[1;33m)\u001b[0m\u001b[1;33m\u001b[0m\u001b[1;33m\u001b[0m\u001b[0m\n",
      "\u001b[1;32mG:\\anaconda3\\lib\\site-packages\\tensorflow\\python\\eager\\def_function.py\u001b[0m in \u001b[0;36m_call\u001b[1;34m(self, *args, **kwds)\u001b[0m\n\u001b[0;32m    853\u001b[0m       \u001b[1;31m# In this case we have created variables on the first call, so we run the\u001b[0m\u001b[1;33m\u001b[0m\u001b[1;33m\u001b[0m\u001b[1;33m\u001b[0m\u001b[0m\n\u001b[0;32m    854\u001b[0m       \u001b[1;31m# defunned version which is guaranteed to never create variables.\u001b[0m\u001b[1;33m\u001b[0m\u001b[1;33m\u001b[0m\u001b[1;33m\u001b[0m\u001b[0m\n\u001b[1;32m--> 855\u001b[1;33m       \u001b[1;32mreturn\u001b[0m \u001b[0mself\u001b[0m\u001b[1;33m.\u001b[0m\u001b[0m_stateless_fn\u001b[0m\u001b[1;33m(\u001b[0m\u001b[1;33m*\u001b[0m\u001b[0margs\u001b[0m\u001b[1;33m,\u001b[0m \u001b[1;33m**\u001b[0m\u001b[0mkwds\u001b[0m\u001b[1;33m)\u001b[0m  \u001b[1;31m# pylint: disable=not-callable\u001b[0m\u001b[1;33m\u001b[0m\u001b[1;33m\u001b[0m\u001b[0m\n\u001b[0m\u001b[0;32m    856\u001b[0m     \u001b[1;32melif\u001b[0m \u001b[0mself\u001b[0m\u001b[1;33m.\u001b[0m\u001b[0m_stateful_fn\u001b[0m \u001b[1;32mis\u001b[0m \u001b[1;32mnot\u001b[0m \u001b[1;32mNone\u001b[0m\u001b[1;33m:\u001b[0m\u001b[1;33m\u001b[0m\u001b[1;33m\u001b[0m\u001b[0m\n\u001b[0;32m    857\u001b[0m       \u001b[1;31m# Release the lock early so that multiple threads can perform the call\u001b[0m\u001b[1;33m\u001b[0m\u001b[1;33m\u001b[0m\u001b[1;33m\u001b[0m\u001b[0m\n",
      "\u001b[1;32mG:\\anaconda3\\lib\\site-packages\\tensorflow\\python\\eager\\function.py\u001b[0m in \u001b[0;36m__call__\u001b[1;34m(self, *args, **kwargs)\u001b[0m\n\u001b[0;32m   2940\u001b[0m       (graph_function,\n\u001b[0;32m   2941\u001b[0m        filtered_flat_args) = self._maybe_define_function(args, kwargs)\n\u001b[1;32m-> 2942\u001b[1;33m     return graph_function._call_flat(\n\u001b[0m\u001b[0;32m   2943\u001b[0m         filtered_flat_args, captured_inputs=graph_function.captured_inputs)  # pylint: disable=protected-access\n\u001b[0;32m   2944\u001b[0m \u001b[1;33m\u001b[0m\u001b[0m\n",
      "\u001b[1;32mG:\\anaconda3\\lib\\site-packages\\tensorflow\\python\\eager\\function.py\u001b[0m in \u001b[0;36m_call_flat\u001b[1;34m(self, args, captured_inputs, cancellation_manager)\u001b[0m\n\u001b[0;32m   1916\u001b[0m         and executing_eagerly):\n\u001b[0;32m   1917\u001b[0m       \u001b[1;31m# No tape is watching; skip to running the function.\u001b[0m\u001b[1;33m\u001b[0m\u001b[1;33m\u001b[0m\u001b[1;33m\u001b[0m\u001b[0m\n\u001b[1;32m-> 1918\u001b[1;33m       return self._build_call_outputs(self._inference_function.call(\n\u001b[0m\u001b[0;32m   1919\u001b[0m           ctx, args, cancellation_manager=cancellation_manager))\n\u001b[0;32m   1920\u001b[0m     forward_backward = self._select_forward_and_backward_functions(\n",
      "\u001b[1;32mG:\\anaconda3\\lib\\site-packages\\tensorflow\\python\\eager\\function.py\u001b[0m in \u001b[0;36mcall\u001b[1;34m(self, ctx, args, cancellation_manager)\u001b[0m\n\u001b[0;32m    553\u001b[0m       \u001b[1;32mwith\u001b[0m \u001b[0m_InterpolateFunctionError\u001b[0m\u001b[1;33m(\u001b[0m\u001b[0mself\u001b[0m\u001b[1;33m)\u001b[0m\u001b[1;33m:\u001b[0m\u001b[1;33m\u001b[0m\u001b[1;33m\u001b[0m\u001b[0m\n\u001b[0;32m    554\u001b[0m         \u001b[1;32mif\u001b[0m \u001b[0mcancellation_manager\u001b[0m \u001b[1;32mis\u001b[0m \u001b[1;32mNone\u001b[0m\u001b[1;33m:\u001b[0m\u001b[1;33m\u001b[0m\u001b[1;33m\u001b[0m\u001b[0m\n\u001b[1;32m--> 555\u001b[1;33m           outputs = execute.execute(\n\u001b[0m\u001b[0;32m    556\u001b[0m               \u001b[0mstr\u001b[0m\u001b[1;33m(\u001b[0m\u001b[0mself\u001b[0m\u001b[1;33m.\u001b[0m\u001b[0msignature\u001b[0m\u001b[1;33m.\u001b[0m\u001b[0mname\u001b[0m\u001b[1;33m)\u001b[0m\u001b[1;33m,\u001b[0m\u001b[1;33m\u001b[0m\u001b[1;33m\u001b[0m\u001b[0m\n\u001b[0;32m    557\u001b[0m               \u001b[0mnum_outputs\u001b[0m\u001b[1;33m=\u001b[0m\u001b[0mself\u001b[0m\u001b[1;33m.\u001b[0m\u001b[0m_num_outputs\u001b[0m\u001b[1;33m,\u001b[0m\u001b[1;33m\u001b[0m\u001b[1;33m\u001b[0m\u001b[0m\n",
      "\u001b[1;32mG:\\anaconda3\\lib\\site-packages\\tensorflow\\python\\eager\\execute.py\u001b[0m in \u001b[0;36mquick_execute\u001b[1;34m(op_name, num_outputs, inputs, attrs, ctx, name)\u001b[0m\n\u001b[0;32m     57\u001b[0m   \u001b[1;32mtry\u001b[0m\u001b[1;33m:\u001b[0m\u001b[1;33m\u001b[0m\u001b[1;33m\u001b[0m\u001b[0m\n\u001b[0;32m     58\u001b[0m     \u001b[0mctx\u001b[0m\u001b[1;33m.\u001b[0m\u001b[0mensure_initialized\u001b[0m\u001b[1;33m(\u001b[0m\u001b[1;33m)\u001b[0m\u001b[1;33m\u001b[0m\u001b[1;33m\u001b[0m\u001b[0m\n\u001b[1;32m---> 59\u001b[1;33m     tensors = pywrap_tfe.TFE_Py_Execute(ctx._handle, device_name, op_name,\n\u001b[0m\u001b[0;32m     60\u001b[0m                                         inputs, attrs, num_outputs)\n\u001b[0;32m     61\u001b[0m   \u001b[1;32mexcept\u001b[0m \u001b[0mcore\u001b[0m\u001b[1;33m.\u001b[0m\u001b[0m_NotOkStatusException\u001b[0m \u001b[1;32mas\u001b[0m \u001b[0me\u001b[0m\u001b[1;33m:\u001b[0m\u001b[1;33m\u001b[0m\u001b[1;33m\u001b[0m\u001b[0m\n",
      "\u001b[1;31mKeyboardInterrupt\u001b[0m: "
     ]
    }
   ],
   "source": [
    "test_model4 = Sequential()\n",
    "test_model4.add(layers.GRU(256, return_sequences = True))\n",
    "test_model4.add(layers.GRU(256, return_sequences = True))\n",
    "test_model4.add(layers.GRU(256))\n",
    "test_model4.add(layers.Dense(8))\n",
    "test_model4.compile(optimizer = 'rmsprop', loss = 'mae', metrics = ['mae', 'accuracy', 'mape'] )\n",
    "\n",
    "\n",
    "history4 = test_model4.fit(train_data1, \n",
    "                train_results1, \n",
    "                epochs = 20, \n",
    "                batch_size = 128, \n",
    "                validation_data = (validation_data1, validation_results1))"
   ]
  },
  {
   "cell_type": "code",
   "execution_count": null,
   "metadata": {},
   "outputs": [],
   "source": []
  },
  {
   "cell_type": "code",
   "execution_count": null,
   "metadata": {},
   "outputs": [],
   "source": []
  },
  {
   "cell_type": "code",
   "execution_count": 278,
   "metadata": {},
   "outputs": [
    {
     "data": {
      "text/plain": [
       "dict_keys(['loss', 'mae', 'val_loss', 'val_mae'])"
      ]
     },
     "execution_count": 278,
     "metadata": {},
     "output_type": "execute_result"
    }
   ],
   "source": [
    "history_dict = history1.history\n",
    "history_dict.keys()"
   ]
  },
  {
   "cell_type": "code",
   "execution_count": null,
   "metadata": {},
   "outputs": [],
   "source": []
  },
  {
   "cell_type": "code",
   "execution_count": 311,
   "metadata": {},
   "outputs": [],
   "source": [
    "def HistVis(hist):\n",
    "    history_dict = hist.history\n",
    "    plthistory_dict = hist.history\n",
    "    loss_values = history_dict['loss']\n",
    "    val_loss_values = history_dict['val_loss']\n",
    "    epochs = range(1, 21)\n",
    "\n",
    "    plt.plot(epochs, loss_values, 'bo', label='Training loss')\n",
    "    plt.plot(epochs, val_loss_values, 'b', label='Validation loss') \n",
    "    plt.title('Потери на этапе обучения и проверки')\n",
    "    plt.xlabel('Epochs')\n",
    "    plt.ylabel('Loss')\n",
    "    plt.legend()\n",
    "    plt.show()\n",
    "   \n",
    "    \n",
    "    mae_values = history_dict['mae']\n",
    "    val_mae_values = history_dict['val_mae']\n",
    "    plt.plot(epochs, mae_values, 'bo', label='Training mae')\n",
    "    plt.plot(epochs, val_mae_values, 'b', label='Validation mae')\n",
    "    plt.title('Training and validation MAE')\n",
    "    plt.xlabel('Epochs')\n",
    "    plt.ylabel('MAE')\n",
    "    plt.legend()\n",
    "    plt.show()\n",
    "    \n",
    "    \n",
    "    "
   ]
  },
  {
   "cell_type": "code",
   "execution_count": null,
   "metadata": {},
   "outputs": [],
   "source": []
  },
  {
   "cell_type": "code",
   "execution_count": 319,
   "metadata": {},
   "outputs": [
    {
     "data": {
      "image/png": "[encoded data removed]",
      "text/plain": [
       "<Figure size 432x288 with 1 Axes>"
      ]
     },
     "metadata": {
      "needs_background": "light"
     },
     "output_type": "display_data"
    },
    {
     "data": {
      "image/png": "[encoded data removed]",
      "text/plain": [
       "<Figure size 432x288 with 1 Axes>"
      ]
     },
     "metadata": {
      "needs_background": "light"
     },
     "output_type": "display_data"
    }
   ],
   "source": [
    "HistVis(history3)\n"
   ]
  },
  {
   "cell_type": "code",
   "execution_count": null,
   "metadata": {},
   "outputs": [],
   "source": []
  },
  {
   "cell_type": "code",
   "execution_count": 330,
   "metadata": {},
   "outputs": [],
   "source": [
    "prediction1 = test_model2.predict(validation_data1)"
   ]
  },
  {
   "cell_type": "code",
   "execution_count": 331,
   "metadata": {},
   "outputs": [
    {
     "data": {
      "text/plain": [
       "array([[1456.24, 1454.26, 1457.53, ..., 1467.71, 1468.45, 1470.47],\n",
       "       [1454.26, 1457.53, 1464.73, ..., 1468.45, 1470.47, 1470.64],\n",
       "       [1457.53, 1464.73, 1470.78, ..., 1470.47, 1470.64, 1471.78],\n",
       "       ...,\n",
       "       [1734.03, 1733.55, 1733.4 , ..., 1732.92, 1733.87, 1734.14],\n",
       "       [1733.55, 1733.4 , 1733.07, ..., 1733.87, 1734.14, 1734.64],\n",
       "       [1733.4 , 1733.07, 1732.48, ..., 1734.14, 1734.64, 1734.76]])"
      ]
     },
     "execution_count": 331,
     "metadata": {},
     "output_type": "execute_result"
    }
   ],
   "source": [
    "validation_results1"
   ]
  },
  {
   "cell_type": "code",
   "execution_count": null,
   "metadata": {},
   "outputs": [],
   "source": []
  },
  {
   "cell_type": "code",
   "execution_count": null,
   "metadata": {},
   "outputs": [],
   "source": []
  },
  {
   "cell_type": "code",
   "execution_count": null,
   "metadata": {},
   "outputs": [],
   "source": []
  },
  {
   "cell_type": "code",
   "execution_count": 332,
   "metadata": {},
   "outputs": [
    {
     "data": {
      "text/plain": [
       "array([1462.7986, 1462.7362, 1462.7952, 1462.8151, 1462.7869, 1462.648 ,\n",
       "       1462.7668, 1462.6187], dtype=float32)"
      ]
     },
     "execution_count": 332,
     "metadata": {},
     "output_type": "execute_result"
    }
   ],
   "source": [
    "prediction_norm = prediction1\n",
    "prediction_norm[0]"
   ]
  },
  {
   "cell_type": "code",
   "execution_count": 333,
   "metadata": {},
   "outputs": [
    {
     "data": {
      "text/plain": [
       "array([1456.24, 1454.26, 1457.53, 1464.73, 1470.78, 1467.71, 1468.45,\n",
       "       1470.47])"
      ]
     },
     "execution_count": 333,
     "metadata": {},
     "output_type": "execute_result"
    }
   ],
   "source": [
    "validation_results1[0]"
   ]
  },
  {
   "cell_type": "code",
   "execution_count": 334,
   "metadata": {},
   "outputs": [],
   "source": [
    "for i in range(prediction.shape[0]):\n",
    "    delta = prediction_norm[i, 0] - validation_results1[i, 0]\n",
    "    prediction_norm[i] = prediction[i] - [delta]"
   ]
  },
  {
   "cell_type": "code",
   "execution_count": 335,
   "metadata": {},
   "outputs": [
    {
     "data": {
      "text/plain": [
       "array([1449.6814, 1449.6838, 1449.6802, 1449.6809, 1449.681 , 1449.684 ,\n",
       "       1449.6865, 1449.6825], dtype=float32)"
      ]
     },
     "execution_count": 335,
     "metadata": {},
     "output_type": "execute_result"
    }
   ],
   "source": [
    "prediction_norm[0]"
   ]
  },
  {
   "cell_type": "code",
   "execution_count": null,
   "metadata": {},
   "outputs": [],
   "source": []
  },
  {
   "cell_type": "code",
   "execution_count": null,
   "metadata": {},
   "outputs": [],
   "source": []
  },
  {
   "cell_type": "code",
   "execution_count": null,
   "metadata": {},
   "outputs": [],
   "source": []
  },
  {
   "cell_type": "code",
   "execution_count": 336,
   "metadata": {},
   "outputs": [
    {
     "data": {
      "image/png": "[encoded data removed]",
      "text/plain": [
       "<Figure size 432x288 with 1 Axes>"
      ]
     },
     "metadata": {
      "needs_background": "light"
     },
     "output_type": "display_data"
    }
   ],
   "source": [
    "num = 7\n",
    "PlotChart(prediction_norm[num], validation_results1[num]) "
   ]
  },
  {
   "cell_type": "code",
   "execution_count": 40,
   "metadata": {},
   "outputs": [
    {
     "name": "stderr",
     "output_type": "stream",
     "text": [
      "<>:1: SyntaxWarning: list indices must be integers or slices, not tuple; perhaps you missed a comma?\n",
      "<>:1: SyntaxWarning: list indices must be integers or slices, not tuple; perhaps you missed a comma?\n",
      "<ipython-input-40-0fb82df338b3>:1: SyntaxWarning: list indices must be integers or slices, not tuple; perhaps you missed a comma?\n",
      "  testarr = [[1,2,3][4,5,6][7,8,9]]\n"
     ]
    },
    {
     "ename": "TypeError",
     "evalue": "list indices must be integers or slices, not tuple",
     "output_type": "error",
     "traceback": [
      "\u001b[1;31m---------------------------------------------------------------------------\u001b[0m",
      "\u001b[1;31mTypeError\u001b[0m                                 Traceback (most recent call last)",
      "\u001b[1;32m<ipython-input-40-0fb82df338b3>\u001b[0m in \u001b[0;36m<module>\u001b[1;34m\u001b[0m\n\u001b[1;32m----> 1\u001b[1;33m \u001b[0mtestarr\u001b[0m \u001b[1;33m=\u001b[0m \u001b[1;33m[\u001b[0m\u001b[1;33m[\u001b[0m\u001b[1;36m1\u001b[0m\u001b[1;33m,\u001b[0m\u001b[1;36m2\u001b[0m\u001b[1;33m,\u001b[0m\u001b[1;36m3\u001b[0m\u001b[1;33m]\u001b[0m\u001b[1;33m[\u001b[0m\u001b[1;36m4\u001b[0m\u001b[1;33m,\u001b[0m\u001b[1;36m5\u001b[0m\u001b[1;33m,\u001b[0m\u001b[1;36m6\u001b[0m\u001b[1;33m]\u001b[0m\u001b[1;33m[\u001b[0m\u001b[1;36m7\u001b[0m\u001b[1;33m,\u001b[0m\u001b[1;36m8\u001b[0m\u001b[1;33m,\u001b[0m\u001b[1;36m9\u001b[0m\u001b[1;33m]\u001b[0m\u001b[1;33m]\u001b[0m\u001b[1;33m\u001b[0m\u001b[1;33m\u001b[0m\u001b[0m\n\u001b[0m",
      "\u001b[1;31mTypeError\u001b[0m: list indices must be integers or slices, not tuple"
     ]
    }
   ],
   "source": []
  },
  {
   "cell_type": "code",
   "execution_count": 44,
   "metadata": {},
   "outputs": [],
   "source": [
    "test_arr = np.zeros((2,3,2))"
   ]
  },
  {
   "cell_type": "code",
   "execution_count": null,
   "metadata": {},
   "outputs": [],
   "source": []
  },
  {
   "cell_type": "code",
   "execution_count": 342,
   "metadata": {},
   "outputs": [],
   "source": [
    "\n",
    "\n",
    "####=========models saving=======\n",
    "\n",
    "test_model1.save('test_model1.h5')\n",
    "test_model2.save('test_model2.h5')\n",
    "test_model3.save('test_model3.h5')\n"
   ]
  },
  {
   "cell_type": "code",
   "execution_count": null,
   "metadata": {},
   "outputs": [],
   "source": []
  },
  {
   "cell_type": "code",
   "execution_count": null,
   "metadata": {},
   "outputs": [],
   "source": []
  },
  {
   "cell_type": "code",
   "execution_count": null,
   "metadata": {},
   "outputs": [],
   "source": []
  },
  {
   "cell_type": "code",
   "execution_count": null,
   "metadata": {},
   "outputs": [],
   "source": []
  },
  {
   "cell_type": "code",
   "execution_count": null,
   "metadata": {},
   "outputs": [],
   "source": []
  },
  {
   "cell_type": "code",
   "execution_count": 45,
   "metadata": {},
   "outputs": [
    {
     "data": {
      "text/plain": [
       "array([[[0., 0.],\n",
       "        [0., 0.],\n",
       "        [0., 0.]],\n",
       "\n",
       "       [[0., 0.],\n",
       "        [0., 0.],\n",
       "        [0., 0.]]])"
      ]
     },
     "execution_count": 45,
     "metadata": {},
     "output_type": "execute_result"
    }
   ],
   "source": [
    "test_arr"
   ]
  },
  {
   "cell_type": "raw",
   "metadata": {},
   "source": []
  },
  {
   "cell_type": "code",
   "execution_count": 48,
   "metadata": {},
   "outputs": [],
   "source": [
    "test_arr[0 , 0]  = [1,2]"
   ]
  },
  {
   "cell_type": "code",
   "execution_count": 49,
   "metadata": {},
   "outputs": [
    {
     "data": {
      "text/plain": [
       "array([[[1., 2.],\n",
       "        [0., 0.],\n",
       "        [0., 0.]],\n",
       "\n",
       "       [[0., 0.],\n",
       "        [0., 0.],\n",
       "        [0., 0.]]])"
      ]
     },
     "execution_count": 49,
     "metadata": {},
     "output_type": "execute_result"
    }
   ],
   "source": [
    "test_arr"
   ]
  },
  {
   "cell_type": "code",
   "execution_count": 233,
   "metadata": {},
   "outputs": [],
   "source": [
    "test_arr = np.zeros(4)\n",
    "\n",
    "for i in range(test_arr.shape[0]):\n",
    "    test_arr[i] = i"
   ]
  },
  {
   "cell_type": "code",
   "execution_count": 234,
   "metadata": {},
   "outputs": [
    {
     "data": {
      "text/plain": [
       "numpy.ndarray"
      ]
     },
     "execution_count": 234,
     "metadata": {},
     "output_type": "execute_result"
    }
   ],
   "source": [
    "type(test_arr)"
   ]
  },
  {
   "cell_type": "code",
   "execution_count": 235,
   "metadata": {},
   "outputs": [
    {
     "data": {
      "text/plain": [
       "array([0., 1., 2., 3.])"
      ]
     },
     "execution_count": 235,
     "metadata": {},
     "output_type": "execute_result"
    }
   ],
   "source": [
    "test_arr"
   ]
  },
  {
   "cell_type": "code",
   "execution_count": 238,
   "metadata": {},
   "outputs": [
    {
     "data": {
      "text/plain": [
       "array([33., 34., 35., 36.])"
      ]
     },
     "execution_count": 238,
     "metadata": {},
     "output_type": "execute_result"
    }
   ],
   "source": [
    "test_arr +33\n"
   ]
  },
  {
   "cell_type": "code",
   "execution_count": null,
   "metadata": {},
   "outputs": [],
   "source": []
  }
 ],
 "metadata": {
  "kernelspec": {
   "display_name": "Python 3",
   "language": "python",
   "name": "python3"
  },
  "language_info": {
   "codemirror_mode": {
    "name": "ipython",
    "version": 3
   },
   "file_extension": ".py",
   "mimetype": "text/x-python",
   "name": "python",
   "nbconvert_exporter": "python",
   "pygments_lexer": "ipython3",
   "version": "3.8.3"
  }
 },
 "nbformat": 4,
 "nbformat_minor": 4
}
